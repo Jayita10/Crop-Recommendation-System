{
  "cells": [
    {
      "cell_type": "markdown",
      "source": [
        "# **Problem Statement :** \n",
        "### **CROP RECOMMENDATION BASED ON WEATHER AND SOIL CONTENT**\n",
        "\n",
        "### **Data fields**\n",
        "- N - ratio of Nitrogen content in soil - kg/hectare\n",
        "- P - ratio of Phosphorous content in soil - kg/hectare\n",
        "- K - ratio of Potassium content in soil - kg/hectare\n",
        "- temperature - temperature in degree Celsius\n",
        "- humidity - relative humidity in %\n",
        "- ph - ph value of the soil\n",
        "- rainfall - rainfall in mm"
      ],
      "metadata": {
        "id": "9hiQ-kgOLZ-S"
      },
      "id": "9hiQ-kgOLZ-S"
    },
    {
      "cell_type": "code",
      "execution_count": 74,
      "id": "37fb43c6",
      "metadata": {
        "id": "37fb43c6"
      },
      "outputs": [],
      "source": [
        "# importing necessary libraries\n",
        "import numpy as np\n",
        "import pandas as pd\n",
        "import matplotlib.pyplot as plt\n",
        "import seaborn as sns\n",
        "%matplotlib inline\n",
        "\n",
        "\n",
        "from sklearn.model_selection import train_test_split\n",
        "from sklearn import metrics\n",
        "from sklearn.metrics import confusion_matrix\n",
        "from sklearn.preprocessing import MinMaxScaler\n",
        "\n",
        "from sklearn.ensemble import GradientBoostingClassifier\n",
        "from sklearn.ensemble import RandomForestClassifier\n",
        "from sklearn.tree import DecisionTreeClassifier\n",
        "from sklearn.svm import SVC\n",
        "from sklearn.neighbors import KNeighborsClassifier\n",
        "\n",
        "import warnings\n",
        "warnings.simplefilter(\"ignore\", UserWarning)\n"
      ]
    },
    {
      "cell_type": "markdown",
      "id": "7930120d",
      "metadata": {
        "id": "7930120d"
      },
      "source": [
        "## **1. Data Overview**"
      ]
    },
    {
      "cell_type": "code",
      "execution_count": 75,
      "id": "80505d98",
      "metadata": {
        "id": "80505d98"
      },
      "outputs": [],
      "source": [
        "df = pd.read_csv(\"/content/Crop_recommendation.csv\")"
      ]
    },
    {
      "cell_type": "code",
      "execution_count": 76,
      "id": "95381e6e",
      "metadata": {
        "colab": {
          "base_uri": "https://localhost:8080/"
        },
        "id": "95381e6e",
        "outputId": "e47f597d-9bc4-4486-aa05-f093ce43f83e"
      },
      "outputs": [
        {
          "output_type": "execute_result",
          "data": {
            "text/plain": [
              "(2200, 8)"
            ]
          },
          "metadata": {},
          "execution_count": 76
        }
      ],
      "source": [
        "df.shape"
      ]
    },
    {
      "cell_type": "code",
      "execution_count": 77,
      "id": "5dad3f82",
      "metadata": {
        "colab": {
          "base_uri": "https://localhost:8080/",
          "height": 424
        },
        "id": "5dad3f82",
        "outputId": "8ae214c2-ca1d-4027-9784-978426fd303b"
      },
      "outputs": [
        {
          "output_type": "execute_result",
          "data": {
            "text/plain": [
              "        N   P   K  temperature   humidity        ph    rainfall   label\n",
              "0      90  42  43    20.879744  82.002744  6.502985  202.935536    rice\n",
              "1      85  58  41    21.770462  80.319644  7.038096  226.655537    rice\n",
              "2      60  55  44    23.004459  82.320763  7.840207  263.964248    rice\n",
              "3      74  35  40    26.491096  80.158363  6.980401  242.864034    rice\n",
              "4      78  42  42    20.130175  81.604873  7.628473  262.717340    rice\n",
              "...   ...  ..  ..          ...        ...       ...         ...     ...\n",
              "2195  107  34  32    26.774637  66.413269  6.780064  177.774507  coffee\n",
              "2196   99  15  27    27.417112  56.636362  6.086922  127.924610  coffee\n",
              "2197  118  33  30    24.131797  67.225123  6.362608  173.322839  coffee\n",
              "2198  117  32  34    26.272418  52.127394  6.758793  127.175293  coffee\n",
              "2199  104  18  30    23.603016  60.396475  6.779833  140.937041  coffee\n",
              "\n",
              "[2200 rows x 8 columns]"
            ],
            "text/html": [
              "\n",
              "  <div id=\"df-9ccbaf9b-26dd-451b-9968-c47fd33aca59\">\n",
              "    <div class=\"colab-df-container\">\n",
              "      <div>\n",
              "<style scoped>\n",
              "    .dataframe tbody tr th:only-of-type {\n",
              "        vertical-align: middle;\n",
              "    }\n",
              "\n",
              "    .dataframe tbody tr th {\n",
              "        vertical-align: top;\n",
              "    }\n",
              "\n",
              "    .dataframe thead th {\n",
              "        text-align: right;\n",
              "    }\n",
              "</style>\n",
              "<table border=\"1\" class=\"dataframe\">\n",
              "  <thead>\n",
              "    <tr style=\"text-align: right;\">\n",
              "      <th></th>\n",
              "      <th>N</th>\n",
              "      <th>P</th>\n",
              "      <th>K</th>\n",
              "      <th>temperature</th>\n",
              "      <th>humidity</th>\n",
              "      <th>ph</th>\n",
              "      <th>rainfall</th>\n",
              "      <th>label</th>\n",
              "    </tr>\n",
              "  </thead>\n",
              "  <tbody>\n",
              "    <tr>\n",
              "      <th>0</th>\n",
              "      <td>90</td>\n",
              "      <td>42</td>\n",
              "      <td>43</td>\n",
              "      <td>20.879744</td>\n",
              "      <td>82.002744</td>\n",
              "      <td>6.502985</td>\n",
              "      <td>202.935536</td>\n",
              "      <td>rice</td>\n",
              "    </tr>\n",
              "    <tr>\n",
              "      <th>1</th>\n",
              "      <td>85</td>\n",
              "      <td>58</td>\n",
              "      <td>41</td>\n",
              "      <td>21.770462</td>\n",
              "      <td>80.319644</td>\n",
              "      <td>7.038096</td>\n",
              "      <td>226.655537</td>\n",
              "      <td>rice</td>\n",
              "    </tr>\n",
              "    <tr>\n",
              "      <th>2</th>\n",
              "      <td>60</td>\n",
              "      <td>55</td>\n",
              "      <td>44</td>\n",
              "      <td>23.004459</td>\n",
              "      <td>82.320763</td>\n",
              "      <td>7.840207</td>\n",
              "      <td>263.964248</td>\n",
              "      <td>rice</td>\n",
              "    </tr>\n",
              "    <tr>\n",
              "      <th>3</th>\n",
              "      <td>74</td>\n",
              "      <td>35</td>\n",
              "      <td>40</td>\n",
              "      <td>26.491096</td>\n",
              "      <td>80.158363</td>\n",
              "      <td>6.980401</td>\n",
              "      <td>242.864034</td>\n",
              "      <td>rice</td>\n",
              "    </tr>\n",
              "    <tr>\n",
              "      <th>4</th>\n",
              "      <td>78</td>\n",
              "      <td>42</td>\n",
              "      <td>42</td>\n",
              "      <td>20.130175</td>\n",
              "      <td>81.604873</td>\n",
              "      <td>7.628473</td>\n",
              "      <td>262.717340</td>\n",
              "      <td>rice</td>\n",
              "    </tr>\n",
              "    <tr>\n",
              "      <th>...</th>\n",
              "      <td>...</td>\n",
              "      <td>...</td>\n",
              "      <td>...</td>\n",
              "      <td>...</td>\n",
              "      <td>...</td>\n",
              "      <td>...</td>\n",
              "      <td>...</td>\n",
              "      <td>...</td>\n",
              "    </tr>\n",
              "    <tr>\n",
              "      <th>2195</th>\n",
              "      <td>107</td>\n",
              "      <td>34</td>\n",
              "      <td>32</td>\n",
              "      <td>26.774637</td>\n",
              "      <td>66.413269</td>\n",
              "      <td>6.780064</td>\n",
              "      <td>177.774507</td>\n",
              "      <td>coffee</td>\n",
              "    </tr>\n",
              "    <tr>\n",
              "      <th>2196</th>\n",
              "      <td>99</td>\n",
              "      <td>15</td>\n",
              "      <td>27</td>\n",
              "      <td>27.417112</td>\n",
              "      <td>56.636362</td>\n",
              "      <td>6.086922</td>\n",
              "      <td>127.924610</td>\n",
              "      <td>coffee</td>\n",
              "    </tr>\n",
              "    <tr>\n",
              "      <th>2197</th>\n",
              "      <td>118</td>\n",
              "      <td>33</td>\n",
              "      <td>30</td>\n",
              "      <td>24.131797</td>\n",
              "      <td>67.225123</td>\n",
              "      <td>6.362608</td>\n",
              "      <td>173.322839</td>\n",
              "      <td>coffee</td>\n",
              "    </tr>\n",
              "    <tr>\n",
              "      <th>2198</th>\n",
              "      <td>117</td>\n",
              "      <td>32</td>\n",
              "      <td>34</td>\n",
              "      <td>26.272418</td>\n",
              "      <td>52.127394</td>\n",
              "      <td>6.758793</td>\n",
              "      <td>127.175293</td>\n",
              "      <td>coffee</td>\n",
              "    </tr>\n",
              "    <tr>\n",
              "      <th>2199</th>\n",
              "      <td>104</td>\n",
              "      <td>18</td>\n",
              "      <td>30</td>\n",
              "      <td>23.603016</td>\n",
              "      <td>60.396475</td>\n",
              "      <td>6.779833</td>\n",
              "      <td>140.937041</td>\n",
              "      <td>coffee</td>\n",
              "    </tr>\n",
              "  </tbody>\n",
              "</table>\n",
              "<p>2200 rows × 8 columns</p>\n",
              "</div>\n",
              "      <button class=\"colab-df-convert\" onclick=\"convertToInteractive('df-9ccbaf9b-26dd-451b-9968-c47fd33aca59')\"\n",
              "              title=\"Convert this dataframe to an interactive table.\"\n",
              "              style=\"display:none;\">\n",
              "        \n",
              "  <svg xmlns=\"http://www.w3.org/2000/svg\" height=\"24px\"viewBox=\"0 0 24 24\"\n",
              "       width=\"24px\">\n",
              "    <path d=\"M0 0h24v24H0V0z\" fill=\"none\"/>\n",
              "    <path d=\"M18.56 5.44l.94 2.06.94-2.06 2.06-.94-2.06-.94-.94-2.06-.94 2.06-2.06.94zm-11 1L8.5 8.5l.94-2.06 2.06-.94-2.06-.94L8.5 2.5l-.94 2.06-2.06.94zm10 10l.94 2.06.94-2.06 2.06-.94-2.06-.94-.94-2.06-.94 2.06-2.06.94z\"/><path d=\"M17.41 7.96l-1.37-1.37c-.4-.4-.92-.59-1.43-.59-.52 0-1.04.2-1.43.59L10.3 9.45l-7.72 7.72c-.78.78-.78 2.05 0 2.83L4 21.41c.39.39.9.59 1.41.59.51 0 1.02-.2 1.41-.59l7.78-7.78 2.81-2.81c.8-.78.8-2.07 0-2.86zM5.41 20L4 18.59l7.72-7.72 1.47 1.35L5.41 20z\"/>\n",
              "  </svg>\n",
              "      </button>\n",
              "      \n",
              "  <style>\n",
              "    .colab-df-container {\n",
              "      display:flex;\n",
              "      flex-wrap:wrap;\n",
              "      gap: 12px;\n",
              "    }\n",
              "\n",
              "    .colab-df-convert {\n",
              "      background-color: #E8F0FE;\n",
              "      border: none;\n",
              "      border-radius: 50%;\n",
              "      cursor: pointer;\n",
              "      display: none;\n",
              "      fill: #1967D2;\n",
              "      height: 32px;\n",
              "      padding: 0 0 0 0;\n",
              "      width: 32px;\n",
              "    }\n",
              "\n",
              "    .colab-df-convert:hover {\n",
              "      background-color: #E2EBFA;\n",
              "      box-shadow: 0px 1px 2px rgba(60, 64, 67, 0.3), 0px 1px 3px 1px rgba(60, 64, 67, 0.15);\n",
              "      fill: #174EA6;\n",
              "    }\n",
              "\n",
              "    [theme=dark] .colab-df-convert {\n",
              "      background-color: #3B4455;\n",
              "      fill: #D2E3FC;\n",
              "    }\n",
              "\n",
              "    [theme=dark] .colab-df-convert:hover {\n",
              "      background-color: #434B5C;\n",
              "      box-shadow: 0px 1px 3px 1px rgba(0, 0, 0, 0.15);\n",
              "      filter: drop-shadow(0px 1px 2px rgba(0, 0, 0, 0.3));\n",
              "      fill: #FFFFFF;\n",
              "    }\n",
              "  </style>\n",
              "\n",
              "      <script>\n",
              "        const buttonEl =\n",
              "          document.querySelector('#df-9ccbaf9b-26dd-451b-9968-c47fd33aca59 button.colab-df-convert');\n",
              "        buttonEl.style.display =\n",
              "          google.colab.kernel.accessAllowed ? 'block' : 'none';\n",
              "\n",
              "        async function convertToInteractive(key) {\n",
              "          const element = document.querySelector('#df-9ccbaf9b-26dd-451b-9968-c47fd33aca59');\n",
              "          const dataTable =\n",
              "            await google.colab.kernel.invokeFunction('convertToInteractive',\n",
              "                                                     [key], {});\n",
              "          if (!dataTable) return;\n",
              "\n",
              "          const docLinkHtml = 'Like what you see? Visit the ' +\n",
              "            '<a target=\"_blank\" href=https://colab.research.google.com/notebooks/data_table.ipynb>data table notebook</a>'\n",
              "            + ' to learn more about interactive tables.';\n",
              "          element.innerHTML = '';\n",
              "          dataTable['output_type'] = 'display_data';\n",
              "          await google.colab.output.renderOutput(dataTable, element);\n",
              "          const docLink = document.createElement('div');\n",
              "          docLink.innerHTML = docLinkHtml;\n",
              "          element.appendChild(docLink);\n",
              "        }\n",
              "      </script>\n",
              "    </div>\n",
              "  </div>\n",
              "  "
            ]
          },
          "metadata": {},
          "execution_count": 77
        }
      ],
      "source": [
        "pd.DataFrame(df)"
      ]
    },
    {
      "cell_type": "code",
      "source": [
        "df.describe()"
      ],
      "metadata": {
        "colab": {
          "base_uri": "https://localhost:8080/",
          "height": 300
        },
        "id": "pVp4bQ8iOXCn",
        "outputId": "16d84ce2-3e27-4672-c6d9-d65463023967"
      },
      "id": "pVp4bQ8iOXCn",
      "execution_count": 78,
      "outputs": [
        {
          "output_type": "execute_result",
          "data": {
            "text/plain": [
              "                 N            P            K  temperature     humidity  \\\n",
              "count  2200.000000  2200.000000  2200.000000  2200.000000  2200.000000   \n",
              "mean     50.551818    53.362727    48.149091    25.616244    71.481779   \n",
              "std      36.917334    32.985883    50.647931     5.063749    22.263812   \n",
              "min       0.000000     5.000000     5.000000     8.825675    14.258040   \n",
              "25%      21.000000    28.000000    20.000000    22.769375    60.261953   \n",
              "50%      37.000000    51.000000    32.000000    25.598693    80.473146   \n",
              "75%      84.250000    68.000000    49.000000    28.561654    89.948771   \n",
              "max     140.000000   145.000000   205.000000    43.675493    99.981876   \n",
              "\n",
              "                ph     rainfall  \n",
              "count  2200.000000  2200.000000  \n",
              "mean      6.469480   103.463655  \n",
              "std       0.773938    54.958389  \n",
              "min       3.504752    20.211267  \n",
              "25%       5.971693    64.551686  \n",
              "50%       6.425045    94.867624  \n",
              "75%       6.923643   124.267508  \n",
              "max       9.935091   298.560117  "
            ],
            "text/html": [
              "\n",
              "  <div id=\"df-78fd78b7-4160-4916-82d6-0e24dfb1b871\">\n",
              "    <div class=\"colab-df-container\">\n",
              "      <div>\n",
              "<style scoped>\n",
              "    .dataframe tbody tr th:only-of-type {\n",
              "        vertical-align: middle;\n",
              "    }\n",
              "\n",
              "    .dataframe tbody tr th {\n",
              "        vertical-align: top;\n",
              "    }\n",
              "\n",
              "    .dataframe thead th {\n",
              "        text-align: right;\n",
              "    }\n",
              "</style>\n",
              "<table border=\"1\" class=\"dataframe\">\n",
              "  <thead>\n",
              "    <tr style=\"text-align: right;\">\n",
              "      <th></th>\n",
              "      <th>N</th>\n",
              "      <th>P</th>\n",
              "      <th>K</th>\n",
              "      <th>temperature</th>\n",
              "      <th>humidity</th>\n",
              "      <th>ph</th>\n",
              "      <th>rainfall</th>\n",
              "    </tr>\n",
              "  </thead>\n",
              "  <tbody>\n",
              "    <tr>\n",
              "      <th>count</th>\n",
              "      <td>2200.000000</td>\n",
              "      <td>2200.000000</td>\n",
              "      <td>2200.000000</td>\n",
              "      <td>2200.000000</td>\n",
              "      <td>2200.000000</td>\n",
              "      <td>2200.000000</td>\n",
              "      <td>2200.000000</td>\n",
              "    </tr>\n",
              "    <tr>\n",
              "      <th>mean</th>\n",
              "      <td>50.551818</td>\n",
              "      <td>53.362727</td>\n",
              "      <td>48.149091</td>\n",
              "      <td>25.616244</td>\n",
              "      <td>71.481779</td>\n",
              "      <td>6.469480</td>\n",
              "      <td>103.463655</td>\n",
              "    </tr>\n",
              "    <tr>\n",
              "      <th>std</th>\n",
              "      <td>36.917334</td>\n",
              "      <td>32.985883</td>\n",
              "      <td>50.647931</td>\n",
              "      <td>5.063749</td>\n",
              "      <td>22.263812</td>\n",
              "      <td>0.773938</td>\n",
              "      <td>54.958389</td>\n",
              "    </tr>\n",
              "    <tr>\n",
              "      <th>min</th>\n",
              "      <td>0.000000</td>\n",
              "      <td>5.000000</td>\n",
              "      <td>5.000000</td>\n",
              "      <td>8.825675</td>\n",
              "      <td>14.258040</td>\n",
              "      <td>3.504752</td>\n",
              "      <td>20.211267</td>\n",
              "    </tr>\n",
              "    <tr>\n",
              "      <th>25%</th>\n",
              "      <td>21.000000</td>\n",
              "      <td>28.000000</td>\n",
              "      <td>20.000000</td>\n",
              "      <td>22.769375</td>\n",
              "      <td>60.261953</td>\n",
              "      <td>5.971693</td>\n",
              "      <td>64.551686</td>\n",
              "    </tr>\n",
              "    <tr>\n",
              "      <th>50%</th>\n",
              "      <td>37.000000</td>\n",
              "      <td>51.000000</td>\n",
              "      <td>32.000000</td>\n",
              "      <td>25.598693</td>\n",
              "      <td>80.473146</td>\n",
              "      <td>6.425045</td>\n",
              "      <td>94.867624</td>\n",
              "    </tr>\n",
              "    <tr>\n",
              "      <th>75%</th>\n",
              "      <td>84.250000</td>\n",
              "      <td>68.000000</td>\n",
              "      <td>49.000000</td>\n",
              "      <td>28.561654</td>\n",
              "      <td>89.948771</td>\n",
              "      <td>6.923643</td>\n",
              "      <td>124.267508</td>\n",
              "    </tr>\n",
              "    <tr>\n",
              "      <th>max</th>\n",
              "      <td>140.000000</td>\n",
              "      <td>145.000000</td>\n",
              "      <td>205.000000</td>\n",
              "      <td>43.675493</td>\n",
              "      <td>99.981876</td>\n",
              "      <td>9.935091</td>\n",
              "      <td>298.560117</td>\n",
              "    </tr>\n",
              "  </tbody>\n",
              "</table>\n",
              "</div>\n",
              "      <button class=\"colab-df-convert\" onclick=\"convertToInteractive('df-78fd78b7-4160-4916-82d6-0e24dfb1b871')\"\n",
              "              title=\"Convert this dataframe to an interactive table.\"\n",
              "              style=\"display:none;\">\n",
              "        \n",
              "  <svg xmlns=\"http://www.w3.org/2000/svg\" height=\"24px\"viewBox=\"0 0 24 24\"\n",
              "       width=\"24px\">\n",
              "    <path d=\"M0 0h24v24H0V0z\" fill=\"none\"/>\n",
              "    <path d=\"M18.56 5.44l.94 2.06.94-2.06 2.06-.94-2.06-.94-.94-2.06-.94 2.06-2.06.94zm-11 1L8.5 8.5l.94-2.06 2.06-.94-2.06-.94L8.5 2.5l-.94 2.06-2.06.94zm10 10l.94 2.06.94-2.06 2.06-.94-2.06-.94-.94-2.06-.94 2.06-2.06.94z\"/><path d=\"M17.41 7.96l-1.37-1.37c-.4-.4-.92-.59-1.43-.59-.52 0-1.04.2-1.43.59L10.3 9.45l-7.72 7.72c-.78.78-.78 2.05 0 2.83L4 21.41c.39.39.9.59 1.41.59.51 0 1.02-.2 1.41-.59l7.78-7.78 2.81-2.81c.8-.78.8-2.07 0-2.86zM5.41 20L4 18.59l7.72-7.72 1.47 1.35L5.41 20z\"/>\n",
              "  </svg>\n",
              "      </button>\n",
              "      \n",
              "  <style>\n",
              "    .colab-df-container {\n",
              "      display:flex;\n",
              "      flex-wrap:wrap;\n",
              "      gap: 12px;\n",
              "    }\n",
              "\n",
              "    .colab-df-convert {\n",
              "      background-color: #E8F0FE;\n",
              "      border: none;\n",
              "      border-radius: 50%;\n",
              "      cursor: pointer;\n",
              "      display: none;\n",
              "      fill: #1967D2;\n",
              "      height: 32px;\n",
              "      padding: 0 0 0 0;\n",
              "      width: 32px;\n",
              "    }\n",
              "\n",
              "    .colab-df-convert:hover {\n",
              "      background-color: #E2EBFA;\n",
              "      box-shadow: 0px 1px 2px rgba(60, 64, 67, 0.3), 0px 1px 3px 1px rgba(60, 64, 67, 0.15);\n",
              "      fill: #174EA6;\n",
              "    }\n",
              "\n",
              "    [theme=dark] .colab-df-convert {\n",
              "      background-color: #3B4455;\n",
              "      fill: #D2E3FC;\n",
              "    }\n",
              "\n",
              "    [theme=dark] .colab-df-convert:hover {\n",
              "      background-color: #434B5C;\n",
              "      box-shadow: 0px 1px 3px 1px rgba(0, 0, 0, 0.15);\n",
              "      filter: drop-shadow(0px 1px 2px rgba(0, 0, 0, 0.3));\n",
              "      fill: #FFFFFF;\n",
              "    }\n",
              "  </style>\n",
              "\n",
              "      <script>\n",
              "        const buttonEl =\n",
              "          document.querySelector('#df-78fd78b7-4160-4916-82d6-0e24dfb1b871 button.colab-df-convert');\n",
              "        buttonEl.style.display =\n",
              "          google.colab.kernel.accessAllowed ? 'block' : 'none';\n",
              "\n",
              "        async function convertToInteractive(key) {\n",
              "          const element = document.querySelector('#df-78fd78b7-4160-4916-82d6-0e24dfb1b871');\n",
              "          const dataTable =\n",
              "            await google.colab.kernel.invokeFunction('convertToInteractive',\n",
              "                                                     [key], {});\n",
              "          if (!dataTable) return;\n",
              "\n",
              "          const docLinkHtml = 'Like what you see? Visit the ' +\n",
              "            '<a target=\"_blank\" href=https://colab.research.google.com/notebooks/data_table.ipynb>data table notebook</a>'\n",
              "            + ' to learn more about interactive tables.';\n",
              "          element.innerHTML = '';\n",
              "          dataTable['output_type'] = 'display_data';\n",
              "          await google.colab.output.renderOutput(dataTable, element);\n",
              "          const docLink = document.createElement('div');\n",
              "          docLink.innerHTML = docLinkHtml;\n",
              "          element.appendChild(docLink);\n",
              "        }\n",
              "      </script>\n",
              "    </div>\n",
              "  </div>\n",
              "  "
            ]
          },
          "metadata": {},
          "execution_count": 78
        }
      ]
    },
    {
      "cell_type": "code",
      "source": [
        "# checking for duplicate row\n",
        "df.duplicated().any()"
      ],
      "metadata": {
        "colab": {
          "base_uri": "https://localhost:8080/"
        },
        "id": "WJyU4xVtO4Lp",
        "outputId": "03560d17-e373-4285-8248-a87046fa5f25"
      },
      "id": "WJyU4xVtO4Lp",
      "execution_count": 79,
      "outputs": [
        {
          "output_type": "execute_result",
          "data": {
            "text/plain": [
              "False"
            ]
          },
          "metadata": {},
          "execution_count": 79
        }
      ]
    },
    {
      "cell_type": "code",
      "execution_count": 80,
      "id": "5d2650f5",
      "metadata": {
        "colab": {
          "base_uri": "https://localhost:8080/"
        },
        "id": "5d2650f5",
        "outputId": "d22ffae4-2f27-43ad-a825-740e60bbc8a2"
      },
      "outputs": [
        {
          "output_type": "execute_result",
          "data": {
            "text/plain": [
              "N              0\n",
              "P              0\n",
              "K              0\n",
              "temperature    0\n",
              "humidity       0\n",
              "ph             0\n",
              "rainfall       0\n",
              "label          0\n",
              "dtype: int64"
            ]
          },
          "metadata": {},
          "execution_count": 80
        }
      ],
      "source": [
        "# checking for null values in the dataset\n",
        "df.isna().sum()"
      ]
    },
    {
      "cell_type": "code",
      "execution_count": 81,
      "id": "28f5454d",
      "metadata": {
        "colab": {
          "base_uri": "https://localhost:8080/"
        },
        "id": "28f5454d",
        "outputId": "3bae5dc4-e88e-47b5-f991-9729fb8dcc80"
      },
      "outputs": [
        {
          "output_type": "stream",
          "name": "stdout",
          "text": [
            "<class 'pandas.core.frame.DataFrame'>\n",
            "RangeIndex: 2200 entries, 0 to 2199\n",
            "Data columns (total 8 columns):\n",
            " #   Column       Non-Null Count  Dtype  \n",
            "---  ------       --------------  -----  \n",
            " 0   N            2200 non-null   int64  \n",
            " 1   P            2200 non-null   int64  \n",
            " 2   K            2200 non-null   int64  \n",
            " 3   temperature  2200 non-null   float64\n",
            " 4   humidity     2200 non-null   float64\n",
            " 5   ph           2200 non-null   float64\n",
            " 6   rainfall     2200 non-null   float64\n",
            " 7   label        2200 non-null   object \n",
            "dtypes: float64(4), int64(3), object(1)\n",
            "memory usage: 137.6+ KB\n"
          ]
        }
      ],
      "source": [
        "df.info()"
      ]
    },
    {
      "cell_type": "markdown",
      "source": [
        "By analysing the dataset, we can conclude that this is a balance dataset with no missing values."
      ],
      "metadata": {
        "id": "NcSHmdPnPe41"
      },
      "id": "NcSHmdPnPe41"
    },
    {
      "cell_type": "markdown",
      "source": [
        "## **2. Exploratery Data analysis**"
      ],
      "metadata": {
        "id": "nNfVLNHZSu7L"
      },
      "id": "nNfVLNHZSu7L"
    },
    {
      "cell_type": "code",
      "execution_count": 82,
      "id": "f80803f4",
      "metadata": {
        "colab": {
          "base_uri": "https://localhost:8080/",
          "height": 269
        },
        "id": "f80803f4",
        "outputId": "1dbc290d-677c-4f34-fad3-5ff63bca9ae5"
      },
      "outputs": [
        {
          "output_type": "execute_result",
          "data": {
            "text/plain": [
              "                    N         P         K  temperature  humidity        ph  \\\n",
              "N            1.000000 -0.231460 -0.140512     0.026504  0.190688  0.096683   \n",
              "P           -0.231460  1.000000  0.736232    -0.127541 -0.118734 -0.138019   \n",
              "K           -0.140512  0.736232  1.000000    -0.160387  0.190859 -0.169503   \n",
              "temperature  0.026504 -0.127541 -0.160387     1.000000  0.205320 -0.017795   \n",
              "humidity     0.190688 -0.118734  0.190859     0.205320  1.000000 -0.008483   \n",
              "ph           0.096683 -0.138019 -0.169503    -0.017795 -0.008483  1.000000   \n",
              "rainfall     0.059020 -0.063839 -0.053461    -0.030084  0.094423 -0.109069   \n",
              "\n",
              "             rainfall  \n",
              "N            0.059020  \n",
              "P           -0.063839  \n",
              "K           -0.053461  \n",
              "temperature -0.030084  \n",
              "humidity     0.094423  \n",
              "ph          -0.109069  \n",
              "rainfall     1.000000  "
            ],
            "text/html": [
              "\n",
              "  <div id=\"df-22b14a6a-b63c-4505-943d-d170d371975e\">\n",
              "    <div class=\"colab-df-container\">\n",
              "      <div>\n",
              "<style scoped>\n",
              "    .dataframe tbody tr th:only-of-type {\n",
              "        vertical-align: middle;\n",
              "    }\n",
              "\n",
              "    .dataframe tbody tr th {\n",
              "        vertical-align: top;\n",
              "    }\n",
              "\n",
              "    .dataframe thead th {\n",
              "        text-align: right;\n",
              "    }\n",
              "</style>\n",
              "<table border=\"1\" class=\"dataframe\">\n",
              "  <thead>\n",
              "    <tr style=\"text-align: right;\">\n",
              "      <th></th>\n",
              "      <th>N</th>\n",
              "      <th>P</th>\n",
              "      <th>K</th>\n",
              "      <th>temperature</th>\n",
              "      <th>humidity</th>\n",
              "      <th>ph</th>\n",
              "      <th>rainfall</th>\n",
              "    </tr>\n",
              "  </thead>\n",
              "  <tbody>\n",
              "    <tr>\n",
              "      <th>N</th>\n",
              "      <td>1.000000</td>\n",
              "      <td>-0.231460</td>\n",
              "      <td>-0.140512</td>\n",
              "      <td>0.026504</td>\n",
              "      <td>0.190688</td>\n",
              "      <td>0.096683</td>\n",
              "      <td>0.059020</td>\n",
              "    </tr>\n",
              "    <tr>\n",
              "      <th>P</th>\n",
              "      <td>-0.231460</td>\n",
              "      <td>1.000000</td>\n",
              "      <td>0.736232</td>\n",
              "      <td>-0.127541</td>\n",
              "      <td>-0.118734</td>\n",
              "      <td>-0.138019</td>\n",
              "      <td>-0.063839</td>\n",
              "    </tr>\n",
              "    <tr>\n",
              "      <th>K</th>\n",
              "      <td>-0.140512</td>\n",
              "      <td>0.736232</td>\n",
              "      <td>1.000000</td>\n",
              "      <td>-0.160387</td>\n",
              "      <td>0.190859</td>\n",
              "      <td>-0.169503</td>\n",
              "      <td>-0.053461</td>\n",
              "    </tr>\n",
              "    <tr>\n",
              "      <th>temperature</th>\n",
              "      <td>0.026504</td>\n",
              "      <td>-0.127541</td>\n",
              "      <td>-0.160387</td>\n",
              "      <td>1.000000</td>\n",
              "      <td>0.205320</td>\n",
              "      <td>-0.017795</td>\n",
              "      <td>-0.030084</td>\n",
              "    </tr>\n",
              "    <tr>\n",
              "      <th>humidity</th>\n",
              "      <td>0.190688</td>\n",
              "      <td>-0.118734</td>\n",
              "      <td>0.190859</td>\n",
              "      <td>0.205320</td>\n",
              "      <td>1.000000</td>\n",
              "      <td>-0.008483</td>\n",
              "      <td>0.094423</td>\n",
              "    </tr>\n",
              "    <tr>\n",
              "      <th>ph</th>\n",
              "      <td>0.096683</td>\n",
              "      <td>-0.138019</td>\n",
              "      <td>-0.169503</td>\n",
              "      <td>-0.017795</td>\n",
              "      <td>-0.008483</td>\n",
              "      <td>1.000000</td>\n",
              "      <td>-0.109069</td>\n",
              "    </tr>\n",
              "    <tr>\n",
              "      <th>rainfall</th>\n",
              "      <td>0.059020</td>\n",
              "      <td>-0.063839</td>\n",
              "      <td>-0.053461</td>\n",
              "      <td>-0.030084</td>\n",
              "      <td>0.094423</td>\n",
              "      <td>-0.109069</td>\n",
              "      <td>1.000000</td>\n",
              "    </tr>\n",
              "  </tbody>\n",
              "</table>\n",
              "</div>\n",
              "      <button class=\"colab-df-convert\" onclick=\"convertToInteractive('df-22b14a6a-b63c-4505-943d-d170d371975e')\"\n",
              "              title=\"Convert this dataframe to an interactive table.\"\n",
              "              style=\"display:none;\">\n",
              "        \n",
              "  <svg xmlns=\"http://www.w3.org/2000/svg\" height=\"24px\"viewBox=\"0 0 24 24\"\n",
              "       width=\"24px\">\n",
              "    <path d=\"M0 0h24v24H0V0z\" fill=\"none\"/>\n",
              "    <path d=\"M18.56 5.44l.94 2.06.94-2.06 2.06-.94-2.06-.94-.94-2.06-.94 2.06-2.06.94zm-11 1L8.5 8.5l.94-2.06 2.06-.94-2.06-.94L8.5 2.5l-.94 2.06-2.06.94zm10 10l.94 2.06.94-2.06 2.06-.94-2.06-.94-.94-2.06-.94 2.06-2.06.94z\"/><path d=\"M17.41 7.96l-1.37-1.37c-.4-.4-.92-.59-1.43-.59-.52 0-1.04.2-1.43.59L10.3 9.45l-7.72 7.72c-.78.78-.78 2.05 0 2.83L4 21.41c.39.39.9.59 1.41.59.51 0 1.02-.2 1.41-.59l7.78-7.78 2.81-2.81c.8-.78.8-2.07 0-2.86zM5.41 20L4 18.59l7.72-7.72 1.47 1.35L5.41 20z\"/>\n",
              "  </svg>\n",
              "      </button>\n",
              "      \n",
              "  <style>\n",
              "    .colab-df-container {\n",
              "      display:flex;\n",
              "      flex-wrap:wrap;\n",
              "      gap: 12px;\n",
              "    }\n",
              "\n",
              "    .colab-df-convert {\n",
              "      background-color: #E8F0FE;\n",
              "      border: none;\n",
              "      border-radius: 50%;\n",
              "      cursor: pointer;\n",
              "      display: none;\n",
              "      fill: #1967D2;\n",
              "      height: 32px;\n",
              "      padding: 0 0 0 0;\n",
              "      width: 32px;\n",
              "    }\n",
              "\n",
              "    .colab-df-convert:hover {\n",
              "      background-color: #E2EBFA;\n",
              "      box-shadow: 0px 1px 2px rgba(60, 64, 67, 0.3), 0px 1px 3px 1px rgba(60, 64, 67, 0.15);\n",
              "      fill: #174EA6;\n",
              "    }\n",
              "\n",
              "    [theme=dark] .colab-df-convert {\n",
              "      background-color: #3B4455;\n",
              "      fill: #D2E3FC;\n",
              "    }\n",
              "\n",
              "    [theme=dark] .colab-df-convert:hover {\n",
              "      background-color: #434B5C;\n",
              "      box-shadow: 0px 1px 3px 1px rgba(0, 0, 0, 0.15);\n",
              "      filter: drop-shadow(0px 1px 2px rgba(0, 0, 0, 0.3));\n",
              "      fill: #FFFFFF;\n",
              "    }\n",
              "  </style>\n",
              "\n",
              "      <script>\n",
              "        const buttonEl =\n",
              "          document.querySelector('#df-22b14a6a-b63c-4505-943d-d170d371975e button.colab-df-convert');\n",
              "        buttonEl.style.display =\n",
              "          google.colab.kernel.accessAllowed ? 'block' : 'none';\n",
              "\n",
              "        async function convertToInteractive(key) {\n",
              "          const element = document.querySelector('#df-22b14a6a-b63c-4505-943d-d170d371975e');\n",
              "          const dataTable =\n",
              "            await google.colab.kernel.invokeFunction('convertToInteractive',\n",
              "                                                     [key], {});\n",
              "          if (!dataTable) return;\n",
              "\n",
              "          const docLinkHtml = 'Like what you see? Visit the ' +\n",
              "            '<a target=\"_blank\" href=https://colab.research.google.com/notebooks/data_table.ipynb>data table notebook</a>'\n",
              "            + ' to learn more about interactive tables.';\n",
              "          element.innerHTML = '';\n",
              "          dataTable['output_type'] = 'display_data';\n",
              "          await google.colab.output.renderOutput(dataTable, element);\n",
              "          const docLink = document.createElement('div');\n",
              "          docLink.innerHTML = docLinkHtml;\n",
              "          element.appendChild(docLink);\n",
              "        }\n",
              "      </script>\n",
              "    </div>\n",
              "  </div>\n",
              "  "
            ]
          },
          "metadata": {},
          "execution_count": 82
        }
      ],
      "source": [
        "co_relation=df.corr()\n",
        "co_relation"
      ]
    },
    {
      "cell_type": "code",
      "execution_count": 83,
      "id": "db0b0628",
      "metadata": {
        "colab": {
          "base_uri": "https://localhost:8080/",
          "height": 339
        },
        "id": "db0b0628",
        "outputId": "4ff9ec22-9703-4772-d262-edb92185c973"
      },
      "outputs": [
        {
          "output_type": "execute_result",
          "data": {
            "text/plain": [
              "<matplotlib.axes._subplots.AxesSubplot at 0x7fbe5154f2d0>"
            ]
          },
          "metadata": {},
          "execution_count": 83
        },
        {
          "output_type": "display_data",
          "data": {
            "text/plain": [
              "<Figure size 432x288 with 2 Axes>"
            ],
            "image/png": "[encoded data removed]"
          },
          "metadata": {
            "needs_background": "light"
          }
        }
      ],
      "source": [
        "sns.heatmap(co_relation, annot=True)"
      ]
    },
    {
      "cell_type": "markdown",
      "source": [
        "The Result of the `corr()` method is a table with a lot of numbers that represents how well the relationship is between two columns.\n",
        "\n",
        "The number varies from -1 to 1.\n",
        "\n",
        "1 means that there is a 1 to 1 relationship (a perfect correlation), and for this data set, each time a value went up in the first column, the other one went up as well.\n",
        "\n",
        "The correlation between Phosphorus and Potassium is 0.74. So we can understand that there is a good relationship and by increasing one value, the other will probably increase as well."
      ],
      "metadata": {
        "id": "b5KBN-xsRD1H"
      },
      "id": "b5KBN-xsRD1H"
    },
    {
      "cell_type": "markdown",
      "source": [
        "### **2.1 Analysing crops dependency on soil content**"
      ],
      "metadata": {
        "id": "wIj04ctXWd4O"
      },
      "id": "wIj04ctXWd4O"
    },
    {
      "cell_type": "markdown",
      "source": [
        "### 2.1.1 N-P-K"
      ],
      "metadata": {
        "id": "RLPhWnMfboPQ"
      },
      "id": "RLPhWnMfboPQ"
    },
    {
      "cell_type": "markdown",
      "source": [
        "Nitrogen, phosphorus and potassium, or NPK, are the “Big 3” primary nutrients in commercial fertilizers. Each of these fundamental nutrients plays a key role in plant nutrition."
      ],
      "metadata": {
        "id": "ox-1gM2QTpf_"
      },
      "id": "ox-1gM2QTpf_"
    },
    {
      "cell_type": "code",
      "source": [
        "df[\"N\"].describe()"
      ],
      "metadata": {
        "colab": {
          "base_uri": "https://localhost:8080/"
        },
        "id": "becPY9daXPag",
        "outputId": "8bf45304-d581-4614-e39c-fc8841be4f01"
      },
      "id": "becPY9daXPag",
      "execution_count": 84,
      "outputs": [
        {
          "output_type": "execute_result",
          "data": {
            "text/plain": [
              "count    2200.000000\n",
              "mean       50.551818\n",
              "std        36.917334\n",
              "min         0.000000\n",
              "25%        21.000000\n",
              "50%        37.000000\n",
              "75%        84.250000\n",
              "max       140.000000\n",
              "Name: N, dtype: float64"
            ]
          },
          "metadata": {},
          "execution_count": 84
        }
      ]
    },
    {
      "cell_type": "code",
      "source": [
        "df[\"P\"].describe()"
      ],
      "metadata": {
        "colab": {
          "base_uri": "https://localhost:8080/"
        },
        "id": "Axqa827fXiMm",
        "outputId": "0f7cab00-aa7b-4473-ea0a-4210e14906ab"
      },
      "id": "Axqa827fXiMm",
      "execution_count": 85,
      "outputs": [
        {
          "output_type": "execute_result",
          "data": {
            "text/plain": [
              "count    2200.000000\n",
              "mean       53.362727\n",
              "std        32.985883\n",
              "min         5.000000\n",
              "25%        28.000000\n",
              "50%        51.000000\n",
              "75%        68.000000\n",
              "max       145.000000\n",
              "Name: P, dtype: float64"
            ]
          },
          "metadata": {},
          "execution_count": 85
        }
      ]
    },
    {
      "cell_type": "code",
      "source": [
        "df[\"K\"].describe()"
      ],
      "metadata": {
        "colab": {
          "base_uri": "https://localhost:8080/"
        },
        "id": "ILT8Xn2RXmQb",
        "outputId": "dde9762a-4f6f-4d5f-e13e-91aa1bc22189"
      },
      "id": "ILT8Xn2RXmQb",
      "execution_count": 86,
      "outputs": [
        {
          "output_type": "execute_result",
          "data": {
            "text/plain": [
              "count    2200.000000\n",
              "mean       48.149091\n",
              "std        50.647931\n",
              "min         5.000000\n",
              "25%        20.000000\n",
              "50%        32.000000\n",
              "75%        49.000000\n",
              "max       205.000000\n",
              "Name: K, dtype: float64"
            ]
          },
          "metadata": {},
          "execution_count": 86
        }
      ]
    },
    {
      "cell_type": "markdown",
      "source": [
        "### 2.1.2 pH"
      ],
      "metadata": {
        "id": "KJ4ZCqWPbvgX"
      },
      "id": "KJ4ZCqWPbvgX"
    },
    {
      "cell_type": "code",
      "execution_count": 87,
      "id": "deef1ec2",
      "metadata": {
        "colab": {
          "base_uri": "https://localhost:8080/",
          "height": 530
        },
        "id": "deef1ec2",
        "outputId": "74a0c488-76ec-450c-e68d-a2b43672e662"
      },
      "outputs": [
        {
          "output_type": "execute_result",
          "data": {
            "text/plain": [
              "Text(0.5, 0, 'ph value of the soil')"
            ]
          },
          "metadata": {},
          "execution_count": 87
        },
        {
          "output_type": "display_data",
          "data": {
            "text/plain": [
              "<Figure size 720x576 with 1 Axes>"
            ],
            "image/png": "[encoded data removed]"
          },
          "metadata": {
            "needs_background": "light"
          }
        }
      ],
      "source": [
        "plt.figure(figsize=(10,8))\n",
        "plt.title(\"pH\")\n",
        "sns.boxplot(y=\"label\", x=\"ph\", data=df)\n",
        "plt.ylabel(\"crops\")\n",
        "plt.xlabel(\"ph value of the soil\")"
      ]
    },
    {
      "cell_type": "markdown",
      "id": "88415b65",
      "metadata": {
        "id": "88415b65"
      },
      "source": [
        "The study of soil pH is very important in agriculture as that soil pH regulates plant nutrient availability by controlling the chemical forms of the different nutrients and also influences their chemical reactions. As a result, soil and crop productivities are linked to soil pH value. Though soil pH generally ranges from 1 to 14, we can see the optimum range for most  crops is between 5.5 and 7.5. However, some crops have adapted to thrive at soil pH values outside this optimum range like mothbeans."
      ]
    },
    {
      "cell_type": "markdown",
      "source": [
        "### **2.2 Analysing crops dependency on weather**"
      ],
      "metadata": {
        "id": "UlVUx2dsTzZi"
      },
      "id": "UlVUx2dsTzZi"
    },
    {
      "cell_type": "markdown",
      "source": [
        "### 2.2.1 Humidity"
      ],
      "metadata": {
        "id": "kjDYeBzcWAvm"
      },
      "id": "kjDYeBzcWAvm"
    },
    {
      "cell_type": "code",
      "execution_count": 88,
      "id": "97f268ce",
      "metadata": {
        "colab": {
          "base_uri": "https://localhost:8080/",
          "height": 530
        },
        "id": "97f268ce",
        "outputId": "66ee0018-c389-4abc-99db-3c157c5a8ba7"
      },
      "outputs": [
        {
          "output_type": "execute_result",
          "data": {
            "text/plain": [
              "Text(0.5, 0, 'relative humidity in %')"
            ]
          },
          "metadata": {},
          "execution_count": 88
        },
        {
          "output_type": "display_data",
          "data": {
            "text/plain": [
              "<Figure size 432x576 with 1 Axes>"
            ],
            "image/png": "[encoded data removed]"
          },
          "metadata": {
            "needs_background": "light"
          }
        }
      ],
      "source": [
        "plt.figure(figsize=(6,8))\n",
        "plt.title(\"Crops dependency on Humidity\") \n",
        "sns.boxplot(y=\"label\", x=\"humidity\", data=df) \n",
        "plt.ylabel(\"crops\")\n",
        "plt.xlabel(\"relative humidity in %\")"
      ]
    },
    {
      "cell_type": "markdown",
      "source": [
        "We can see, crops like chickpea, kidneybeans are grown when the relative humidity is less than 25%, whereas for fruits like apple, orange, papaya high relative humidity is required."
      ],
      "metadata": {
        "id": "KXBRAJZKUpct"
      },
      "id": "KXBRAJZKUpct"
    },
    {
      "cell_type": "markdown",
      "source": [
        "### 2.2.2 Rainfall"
      ],
      "metadata": {
        "id": "bQB74B3kbNtU"
      },
      "id": "bQB74B3kbNtU"
    },
    {
      "cell_type": "code",
      "execution_count": 89,
      "id": "49a55608",
      "metadata": {
        "colab": {
          "base_uri": "https://localhost:8080/",
          "height": 530
        },
        "id": "49a55608",
        "outputId": "6f43adaa-8130-4f31-dddd-4eb87f59d250"
      },
      "outputs": [
        {
          "output_type": "execute_result",
          "data": {
            "text/plain": [
              "Text(0.5, 0, 'rainfall in mm')"
            ]
          },
          "metadata": {},
          "execution_count": 89
        },
        {
          "output_type": "display_data",
          "data": {
            "text/plain": [
              "<Figure size 720x576 with 1 Axes>"
            ],
            "image/png": "[encoded data removed]"
          },
          "metadata": {
            "needs_background": "light"
          }
        }
      ],
      "source": [
        "plt.figure(figsize=(10,8)) \n",
        "plt.title(\"Crops dependency on Rainfall\") \n",
        "sns.boxplot(y=\"label\", x=\"rainfall\", data=df) \n",
        "plt.ylabel(\"crops\")\n",
        "plt.xlabel(\"rainfall in mm\")"
      ]
    },
    {
      "cell_type": "markdown",
      "id": "0b433a1d",
      "metadata": {
        "id": "0b433a1d"
      },
      "source": [
        "We can see for rice the minimum rainfall required is aprox 170mm whereas for grapes the range is 60-70mm."
      ]
    },
    {
      "cell_type": "markdown",
      "source": [
        "### 2.2.3 Temperature"
      ],
      "metadata": {
        "id": "122iEpMob8fB"
      },
      "id": "122iEpMob8fB"
    },
    {
      "cell_type": "code",
      "execution_count": 90,
      "id": "35b41129",
      "metadata": {
        "colab": {
          "base_uri": "https://localhost:8080/",
          "height": 530
        },
        "id": "35b41129",
        "outputId": "f14ca01e-fde1-4abe-c35e-c69e3e7e9093"
      },
      "outputs": [
        {
          "output_type": "execute_result",
          "data": {
            "text/plain": [
              "Text(0, 0.5, 'crops')"
            ]
          },
          "metadata": {},
          "execution_count": 90
        },
        {
          "output_type": "display_data",
          "data": {
            "text/plain": [
              "<Figure size 432x576 with 1 Axes>"
            ],
            "image/png": "[encoded data removed]"
          },
          "metadata": {
            "needs_background": "light"
          }
        }
      ],
      "source": [
        "plt.figure(figsize=(6,8))\n",
        "plt.title(\"Crops dependency on temperature\")\n",
        "sns.boxplot(y=\"label\", x=\"temperature\", data=df)\n",
        "plt.ylabel(\"crops\")"
      ]
    },
    {
      "cell_type": "markdown",
      "id": "f804563b",
      "metadata": {
        "id": "f804563b"
      },
      "source": [
        "Now if we consider the temperature as a parameter, we can see grapes can be caltivated for a wide range of temperature i,e, 10 to 43 degree centigrade temperature. But for most of the crops the required temperature is within 23 to 30 degree centigrade."
      ]
    },
    {
      "cell_type": "code",
      "execution_count": 91,
      "id": "fd01bc62",
      "metadata": {
        "colab": {
          "base_uri": "https://localhost:8080/",
          "height": 458
        },
        "id": "fd01bc62",
        "outputId": "cce8f6d3-3b77-4422-cba1-ee3a2063784e"
      },
      "outputs": [
        {
          "output_type": "execute_result",
          "data": {
            "text/plain": [
              "<seaborn.axisgrid.JointGrid at 0x7fbe50be3750>"
            ]
          },
          "metadata": {},
          "execution_count": 91
        },
        {
          "output_type": "display_data",
          "data": {
            "text/plain": [
              "<Figure size 432x432 with 3 Axes>"
            ],
            "image/png": "[encoded data removed]"
          },
          "metadata": {
            "needs_background": "light"
          }
        }
      ],
      "source": [
        "sns.jointplot(x=\"rainfall\",y=\"temperature\",data=df[(df['temperature']<=30) & (df['rainfall']>120)],hue=\"label\")"
      ]
    },
    {
      "cell_type": "markdown",
      "id": "acd2fd96",
      "metadata": {
        "id": "acd2fd96"
      },
      "source": [
        "Rainy Season analyse when average rainfall is greater than 120mm and temperature is within 30 degree. This analyse help us to identify the monsoon crops such as rice,apple, cotton etc."
      ]
    },
    {
      "cell_type": "code",
      "source": [
        "plt.figure(figsize=(12,5))\n",
        "plt.subplot(1, 2, 1)\n",
        "# sns.distplot(df_setosa['sepal_length'],kde=True,color='green',bins=20,hist_kws={'alpha':0.3})\n",
        "sns.distplot(df['temperature'],bins=15,hist_kws={'alpha':0.2})\n",
        "plt.subplot(1, 2, 2)\n",
        "sns.distplot(df['ph'],bins=15,hist_kws={'alpha':0.2})"
      ],
      "metadata": {
        "colab": {
          "base_uri": "https://localhost:8080/",
          "height": 510
        },
        "id": "JNxc3XQCdvFE",
        "outputId": "08eb1009-59ed-4f32-87c8-afbc33b8d3a3"
      },
      "id": "JNxc3XQCdvFE",
      "execution_count": 92,
      "outputs": [
        {
          "output_type": "stream",
          "name": "stderr",
          "text": [
            "/usr/local/lib/python3.7/dist-packages/seaborn/distributions.py:2619: FutureWarning:\n",
            "\n",
            "`distplot` is a deprecated function and will be removed in a future version. Please adapt your code to use either `displot` (a figure-level function with similar flexibility) or `histplot` (an axes-level function for histograms).\n",
            "\n",
            "/usr/local/lib/python3.7/dist-packages/seaborn/distributions.py:2619: FutureWarning:\n",
            "\n",
            "`distplot` is a deprecated function and will be removed in a future version. Please adapt your code to use either `displot` (a figure-level function with similar flexibility) or `histplot` (an axes-level function for histograms).\n",
            "\n"
          ]
        },
        {
          "output_type": "execute_result",
          "data": {
            "text/plain": [
              "<matplotlib.axes._subplots.AxesSubplot at 0x7fbe50b33890>"
            ]
          },
          "metadata": {},
          "execution_count": 92
        },
        {
          "output_type": "display_data",
          "data": {
            "text/plain": [
              "<Figure size 864x360 with 2 Axes>"
            ],
            "image/png": "[encoded data removed]"
          },
          "metadata": {
            "needs_background": "light"
          }
        }
      ]
    },
    {
      "cell_type": "markdown",
      "id": "348c7a3d",
      "metadata": {
        "id": "348c7a3d"
      },
      "source": [
        "## **3. Data Preprocessing**"
      ]
    },
    {
      "cell_type": "markdown",
      "source": [
        "Feature scaling is required before creating training data and feeding it to the model.\n",
        "As we can see, two of our features (temperature and ph) are gaussian distributed, therefore scaling them between 0 and 1 with MinMaxScaler."
      ],
      "metadata": {
        "id": "8Akrm6dVuVC5"
      },
      "id": "8Akrm6dVuVC5"
    },
    {
      "cell_type": "code",
      "execution_count": 93,
      "id": "dc3744b9",
      "metadata": {
        "id": "dc3744b9"
      },
      "outputs": [],
      "source": [
        "X=df[['N','P','K','temperature','humidity','ph','rainfall']]\n",
        "y=df.label\n",
        "\n",
        "X_train,X_test,y_train,y_test=train_test_split(X,y,test_size=0.2)"
      ]
    },
    {
      "cell_type": "code",
      "source": [
        "scaler = MinMaxScaler()\n",
        "X_train_scaled = scaler.fit_transform(X_train)\n",
        "\n",
        "# we must apply the scaling to the test set as well that we are computing for the training set\n",
        "X_test_scaled = scaler.transform(X_test)"
      ],
      "metadata": {
        "id": "4VvxXR56e0Sg"
      },
      "id": "4VvxXR56e0Sg",
      "execution_count": 94,
      "outputs": []
    },
    {
      "cell_type": "code",
      "source": [
        "X_train_scaled"
      ],
      "metadata": {
        "colab": {
          "base_uri": "https://localhost:8080/"
        },
        "id": "PWxS3Rh8fLxj",
        "outputId": "37dcaaa6-ed31-44c5-993a-a10684890d56"
      },
      "id": "PWxS3Rh8fLxj",
      "execution_count": 95,
      "outputs": [
        {
          "output_type": "execute_result",
          "data": {
            "text/plain": [
              "array([[0.27857143, 0.37857143, 0.4       , ..., 0.01246358, 0.38756587,\n",
              "        0.17366   ],\n",
              "       [0.52142857, 0.28571429, 0.08      , ..., 0.69182458, 0.48707404,\n",
              "        0.27440633],\n",
              "       [0.35      , 0.35714286, 0.24      , ..., 0.92591974, 0.47264658,\n",
              "        0.20659112],\n",
              "       ...,\n",
              "       [0.61428571, 0.22142857, 0.095     , ..., 0.68368838, 0.35496049,\n",
              "        0.19085796],\n",
              "       [0.05714286, 0.47857143, 0.06      , ..., 0.06321033, 0.34316809,\n",
              "        0.24310294],\n",
              "       [0.20714286, 0.14285714, 0.15      , ..., 0.90265703, 0.316954  ,\n",
              "        0.50483209]])"
            ]
          },
          "metadata": {},
          "execution_count": 95
        }
      ]
    },
    {
      "cell_type": "code",
      "execution_count": 96,
      "id": "77eb69b6",
      "metadata": {
        "colab": {
          "base_uri": "https://localhost:8080/"
        },
        "id": "77eb69b6",
        "outputId": "e8d91236-7e11-46fd-e8df-f52b7b9df358"
      },
      "outputs": [
        {
          "output_type": "execute_result",
          "data": {
            "text/plain": [
              "(1760, 7)"
            ]
          },
          "metadata": {},
          "execution_count": 96
        }
      ],
      "source": [
        "np.shape(X_train_scaled)"
      ]
    },
    {
      "cell_type": "code",
      "source": [
        "np.shape(X_test_scaled)"
      ],
      "metadata": {
        "colab": {
          "base_uri": "https://localhost:8080/"
        },
        "id": "Us-72vVVfaiz",
        "outputId": "febaabe5-6dcc-47b7-b4c7-7247f63279cf"
      },
      "id": "Us-72vVVfaiz",
      "execution_count": 97,
      "outputs": [
        {
          "output_type": "execute_result",
          "data": {
            "text/plain": [
              "(440, 7)"
            ]
          },
          "metadata": {},
          "execution_count": 97
        }
      ]
    },
    {
      "cell_type": "markdown",
      "id": "add9deda",
      "metadata": {
        "id": "add9deda"
      },
      "source": [
        "## **4. Machine Learning Models**"
      ]
    },
    {
      "cell_type": "markdown",
      "id": "3ec63f8a",
      "metadata": {
        "id": "3ec63f8a"
      },
      "source": [
        "### Using KNN Classifier"
      ]
    },
    {
      "cell_type": "code",
      "execution_count": 98,
      "id": "c1969578",
      "metadata": {
        "colab": {
          "base_uri": "https://localhost:8080/"
        },
        "id": "c1969578",
        "outputId": "eed57fc6-9c9f-4ba4-def8-2ceaeb46ff37"
      },
      "outputs": [
        {
          "output_type": "execute_result",
          "data": {
            "text/plain": [
              "0.975"
            ]
          },
          "metadata": {},
          "execution_count": 98
        }
      ],
      "source": [
        "model_knn= KNeighborsClassifier()\n",
        "model_knn.fit(X_train_scaled, y_train)\n",
        "model_knn.score(X_test_scaled, y_test)\n"
      ]
    },
    {
      "cell_type": "code",
      "source": [
        "# Let's try different values of n_neighbors to fine tune and get better results\n",
        "\n",
        "k_range = range(1,20)\n",
        "scores = []\n",
        "\n",
        "for k in k_range:\n",
        "    model_knn = KNeighborsClassifier(n_neighbors = k)\n",
        "    model_knn.fit(X_train_scaled, y_train)\n",
        "    scores.append(model_knn.score(X_test_scaled, y_test))\n",
        "\n",
        "plt.xlabel('k')\n",
        "plt.ylabel('accuracy')\n",
        "plt.scatter(k_range, scores)\n",
        "plt.vlines(k_range,0, scores, linestyle=\"dashed\")\n",
        "plt.ylim(0.96,1.0)\n",
        "plt.xticks([i for i in range(1,20)]);"
      ],
      "metadata": {
        "colab": {
          "base_uri": "https://localhost:8080/",
          "height": 283
        },
        "id": "RScC0qFrgpSe",
        "outputId": "072d6c8a-1e72-46e1-c8f6-3487f354bc61"
      },
      "id": "RScC0qFrgpSe",
      "execution_count": 99,
      "outputs": [
        {
          "output_type": "display_data",
          "data": {
            "text/plain": [
              "<Figure size 432x288 with 1 Axes>"
            ],
            "image/png": "[encoded data removed]"
          },
          "metadata": {
            "needs_background": "light"
          }
        }
      ]
    },
    {
      "cell_type": "code",
      "source": [
        "model_knn= KNeighborsClassifier(n_neighbors=6)\n",
        "model_knn.fit(X_train_scaled, y_train)\n",
        "model_knn.score(X_test_scaled, y_test)\n",
        "\n",
        "print('KNN classifier Accuracy on training data-set: {:.4f}'.format(model_knn.score(X_train_scaled, y_train)))\n",
        "print('KNN classifier Accuracy on test data-set: {:.4f}'.format(model_knn.score(X_test_scaled, y_test)))"
      ],
      "metadata": {
        "colab": {
          "base_uri": "https://localhost:8080/"
        },
        "id": "jJM4Abphm6HM",
        "outputId": "46ef5818-d48a-4f41-f7d9-2ff308ae920d"
      },
      "id": "jJM4Abphm6HM",
      "execution_count": 100,
      "outputs": [
        {
          "output_type": "stream",
          "name": "stdout",
          "text": [
            "KNN classifier Accuracy on training data-set: 0.9858\n",
            "KNN classifier Accuracy on test data-set: 0.9727\n"
          ]
        }
      ]
    },
    {
      "cell_type": "markdown",
      "id": "c93465c0",
      "metadata": {
        "id": "c93465c0"
      },
      "source": [
        "### Using Support Vector Classifer (SVC)"
      ]
    },
    {
      "cell_type": "code",
      "execution_count": 101,
      "id": "78b00a31",
      "metadata": {
        "colab": {
          "base_uri": "https://localhost:8080/"
        },
        "id": "78b00a31",
        "outputId": "44d3e40e-ec48-4c74-ddc3-c9aba8d2649e"
      },
      "outputs": [
        {
          "output_type": "stream",
          "name": "stdout",
          "text": [
            "Support Vector Classifer (SVC) Accuracy on training data-set: 0.7994\n",
            "Support Vector Classifer (SVC) Accuracy on test data-set: 0.7818\n"
          ]
        }
      ],
      "source": [
        "model_svc= SVC(C=100, gamma=0.001).fit(X_train_scaled, y_train)\n",
        "\n",
        "print('Support Vector Classifer (SVC) Accuracy on training data-set: {:.4f}'.format(model_svc.score(X_train_scaled, y_train)))\n",
        "print('Support Vector Classifer (SVC) Accuracy on test data-set: {:.4f}'.format(model_svc.score(X_test_scaled, y_test)))"
      ]
    },
    {
      "cell_type": "markdown",
      "id": "c3cdc47c",
      "metadata": {
        "id": "c3cdc47c"
      },
      "source": [
        "### Using Decision Tree Classifier"
      ]
    },
    {
      "cell_type": "code",
      "execution_count": 102,
      "id": "42b7b75b",
      "metadata": {
        "colab": {
          "base_uri": "https://localhost:8080/"
        },
        "id": "42b7b75b",
        "outputId": "2a6a12d7-8763-4068-89a3-4baf03cbde64"
      },
      "outputs": [
        {
          "output_type": "stream",
          "name": "stdout",
          "text": [
            "Decision Tree model Accuracy on training data-set: 0.9903\n",
            "Decision Tree model Accuracy on test data-set: 0.9727\n"
          ]
        }
      ],
      "source": [
        "model_dt= DecisionTreeClassifier(max_depth=10,random_state=0).fit(X_train, y_train)\n",
        "\n",
        "print('Decision Tree model Accuracy on training data-set: {:.4f}'.format(model_dt.score(X_train, y_train)))\n",
        "print('Decision Tree model Accuracy on test data-set: {:.4f}'.format(model_dt.score(X_test, y_test)))"
      ]
    },
    {
      "cell_type": "markdown",
      "id": "18a2d01e",
      "metadata": {
        "id": "18a2d01e"
      },
      "source": [
        "### Using Random Forest Classifier"
      ]
    },
    {
      "cell_type": "code",
      "execution_count": 103,
      "id": "8040260c",
      "metadata": {
        "colab": {
          "base_uri": "https://localhost:8080/"
        },
        "id": "8040260c",
        "outputId": "9180213a-edc0-40ec-af64-0b2658de4ab5"
      },
      "outputs": [
        {
          "output_type": "stream",
          "name": "stdout",
          "text": [
            "Random Forest model Accuracy on training data-set: 0.9403\n",
            "Random Forest model Accuracy on test data-set: 0.9250\n"
          ]
        }
      ],
      "source": [
        "#  max depth and n_estimator are important to fine tune otherwise trees will be \n",
        "# densely graphed which will be a classic case of overfitting. \n",
        "\n",
        "# max_depth=5 and n_estimators=10 gives pretty much satisfying results by making sure model is able to generalize well.\n",
        "\n",
        "model_rf= RandomForestClassifier(max_depth=5,n_estimators=10,random_state=42).fit(X_train, y_train)\n",
        "\n",
        "print('Random Forest model Accuracy on training data-set: {:.4f}'.format(model_rf.score(X_train, y_train)))\n",
        "print('Random Forest model Accuracy on test data-set: {:.4f}'.format(model_rf.score(X_test, y_test)))"
      ]
    },
    {
      "cell_type": "markdown",
      "id": "4dbc759d",
      "metadata": {
        "id": "4dbc759d"
      },
      "source": [
        "### Using Gradient Boosting Classifiers"
      ]
    },
    {
      "cell_type": "code",
      "execution_count": 104,
      "id": "1bee9bb2",
      "metadata": {
        "colab": {
          "base_uri": "https://localhost:8080/"
        },
        "id": "1bee9bb2",
        "outputId": "5e7ac96d-fe55-4b9d-a0a7-101a93f3231d"
      },
      "outputs": [
        {
          "output_type": "stream",
          "name": "stdout",
          "text": [
            "Gradient Boosting model Accuracy on training data-set: 0.9841\n",
            "Gradient Boosting model Accuracy on test data-set: 0.9614\n"
          ]
        }
      ],
      "source": [
        "model_gb = GradientBoostingClassifier(n_estimators=5, max_features=2, random_state=0).fit(X_train, y_train)\n",
        "\n",
        "print('Gradient Boosting model Accuracy on training data-set: {:.4f}'.format(model_gb.score(X_train, y_train)))\n",
        "print('Gradient Boosting model Accuracy on test data-set: {:.4f}'.format(model_gb.score(X_test, y_test)))"
      ]
    },
    {
      "cell_type": "markdown",
      "id": "c9fb7a69",
      "metadata": {
        "id": "c9fb7a69"
      },
      "source": [
        "## **5. Conclusion**\n"
      ]
    },
    {
      "cell_type": "code",
      "source": [
        "from prettytable import PrettyTable\n",
        "    \n",
        "x = PrettyTable()\n",
        "\n",
        "x.field_names = [\"Model\", \"HyperParameters used\",  \"Train accuracy\", \"Test accuracy\"]\n",
        "\n",
        "x.add_row([\"KNN Classifier\", \"k parameter\", 0.9852, 0.9795])\n",
        "x.add_row([\"SVC\", \"C parameter\", 0.7937, 0.7659])\n",
        "x.add_row([\"Decision Tree\", \"max_depth\" , 0.9892, 0.9841])\n",
        "x.add_row([\"Random Forest Classifier\", \"max_depth,n_estimators\", 0.9756, 0.9523])\n",
        "x.add_row([\"Gradient Boosting\", \"n_estimators, max_features\", 0.9835, 0.9705])\n",
        "\n",
        "print(x)"
      ],
      "metadata": {
        "colab": {
          "base_uri": "https://localhost:8080/"
        },
        "id": "AkKuFAdRrP5k",
        "outputId": "61fa8729-eae1-42e4-914b-2cf4920628d3"
      },
      "id": "AkKuFAdRrP5k",
      "execution_count": 105,
      "outputs": [
        {
          "output_type": "stream",
          "name": "stdout",
          "text": [
            "+--------------------------+----------------------------+----------------+---------------+\n",
            "|          Model           |    HyperParameters used    | Train accuracy | Test accuracy |\n",
            "+--------------------------+----------------------------+----------------+---------------+\n",
            "|      KNN Classifier      |        k parameter         |     0.9852     |     0.9795    |\n",
            "|           SVC            |        C parameter         |     0.7937     |     0.7659    |\n",
            "|      Decision Tree       |         max_depth          |     0.9892     |     0.9841    |\n",
            "| Random Forest Classifier |   max_depth,n_estimators   |     0.9756     |     0.9523    |\n",
            "|    Gradient Boosting     | n_estimators, max_features |     0.9835     |     0.9705    |\n",
            "+--------------------------+----------------------------+----------------+---------------+\n"
          ]
        }
      ]
    },
    {
      "cell_type": "markdown",
      "source": [
        "At the end of our modeling step, we built five models: Random Forest Classifier, Decision Tree Classifier, Gradient Boosting Classifiers,  KNN Classifier, Support Vector Classifer (SVC). We noticed that Decision Tree gave us the best result compare to the other four models."
      ],
      "metadata": {
        "id": "MPOa2uMQt2e3"
      },
      "id": "MPOa2uMQt2e3"
    },
    {
      "cell_type": "code",
      "execution_count": 106,
      "id": "9e5ad3e8",
      "metadata": {
        "colab": {
          "base_uri": "https://localhost:8080/"
        },
        "id": "9e5ad3e8",
        "outputId": "a09a953f-5d81-4655-faa6-c3e0a49980e1"
      },
      "outputs": [
        {
          "output_type": "execute_result",
          "data": {
            "text/plain": [
              "array(['rice'], dtype=object)"
            ]
          },
          "metadata": {},
          "execution_count": 106
        }
      ],
      "source": [
        "prediction=model_dt.predict([[90, 42, 43, 20.879744, 75, 5.5,220]])\n",
        "prediction"
      ]
    },
    {
      "cell_type": "code",
      "execution_count": 106,
      "id": "cac8268f",
      "metadata": {
        "id": "cac8268f"
      },
      "outputs": [],
      "source": [
        ""
      ]
    }
  ],
  "metadata": {
    "kernelspec": {
      "display_name": "Python 3 (ipykernel)",
      "language": "python",
      "name": "python3"
    },
    "language_info": {
      "codemirror_mode": {
        "name": "ipython",
        "version": 3
      },
      "file_extension": ".py",
      "mimetype": "text/x-python",
      "name": "python",
      "nbconvert_exporter": "python",
      "pygments_lexer": "ipython3",
      "version": "3.9.6"
    },
    "colab": {
      "name": "Crop Recommendation.ipynb",
      "provenance": [],
      "toc_visible": true
    }
  },
  "nbformat": 4,
  "nbformat_minor": 5
}